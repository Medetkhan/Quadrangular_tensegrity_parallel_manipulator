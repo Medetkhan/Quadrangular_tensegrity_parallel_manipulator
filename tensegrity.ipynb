{
  "nbformat": 4,
  "nbformat_minor": 0,
  "metadata": {
    "colab": {
      "provenance": [],
      "gpuType": "T4",
      "include_colab_link": true
    },
    "kernelspec": {
      "name": "python3",
      "display_name": "Python 3"
    },
    "language_info": {
      "name": "python"
    },
    "accelerator": "GPU"
  },
  "cells": [
    {
      "cell_type": "markdown",
      "metadata": {
        "id": "view-in-github",
        "colab_type": "text"
      },
      "source": [
        "<a href=\"https://colab.research.google.com/github/Medetkhan/Quadrangular_tensegrity_parallel_manipulator/blob/main/tensegrity.ipynb\" target=\"_parent\"><img src=\"https://colab.research.google.com/assets/colab-badge.svg\" alt=\"Open In Colab\"/></a>"
      ]
    },
    {
      "cell_type": "markdown",
      "source": [
        "# Run this first:"
      ],
      "metadata": {
        "id": "27wYzQe9x2yt"
      }
    },
    {
      "cell_type": "code",
      "source": [
        "from google.colab import drive\n",
        "drive.mount('/content/drive')\n",
        "import pandas as pd\n",
        "import numpy as np\n",
        "import matplotlib.pyplot as plt\n",
        "\n",
        "# %matplotlib inline\n",
        "# file_path = '/content/drive/MyDrive/Tensegrity_ML/test70.csv'\n",
        "# x_70 = pd.read_csv(file_path)\n",
        "# y_70 = pd.read_csv('/content/drive/MyDrive/Tensegrity_ML/y70.csv')\n",
        "# Y_70 = y_70.iloc[4:, 2:5] ##cut out only x y z columns\n",
        "# # X_70 = x_70.iloc[::7].copy() ##take every 7th row to match sampling rate with target\n",
        "# # X_70.reset_index(drop=True, inplace=True)\n",
        "# # X_70 = X_70[:6938]\n",
        "# Y_70.drop(Y_70.index[0], inplace=True) ##remove the first row which is header\n",
        "# Y_70.reset_index(drop=True, inplace=True)\n",
        "# from sklearn.model_selection import train_test_split\n",
        "# X_70 = X_70.iloc[:len(X_70)//2]\n",
        "# Y_70 = Y_70.iloc[:len(Y_70)//2]\n",
        "# # Split the data into training and testing sets\n",
        "# X_train, X_t"
      ],
      "metadata": {
        "colab": {
          "base_uri": "https://localhost:8080/"
        },
        "id": "kIQAa6eAODkg",
        "outputId": "91f3717d-d086-4520-e015-a390f1efc7d8"
      },
      "execution_count": 1,
      "outputs": [
        {
          "output_type": "stream",
          "name": "stdout",
          "text": [
            "Mounted at /content/drive\n"
          ]
        }
      ]
    },
    {
      "cell_type": "code",
      "source": [
        "def observe_data(x_data, y_data):\n",
        "  file_path = f'/content/drive/MyDrive/Tensegrity_ML/{x_data}.csv'\n",
        "  x_70 = pd.read_csv(file_path)\n",
        "\n",
        "  y_70 = pd.read_csv(f'/content/drive/MyDrive/Tensegrity_ML/{y_data}.csv')\n",
        "  Y_70 = y_70.iloc[4:, 2:5]\n",
        "  Y_70.drop(Y_70.index[0], inplace=True) ##remove the first row which is header\n",
        "  Y_70.reset_index(drop=True, inplace=True)\n",
        "\n",
        "  # motors = x_70.to_numpy()\n",
        "  # y_temp = Y_70.to_numpy()\n",
        "  # y_temp = y_temp.astype(np.float)\n",
        "  data = x_70.to_numpy()\n",
        "  y_temp = Y_70.to_numpy()\n",
        "  labels = y_temp.astype(np.float)\n",
        "\n",
        "  # Y_len = 2400\n",
        "  # X_len = 14100\n",
        "  # samp_rate_matcher = X_len//Y_len\n",
        "\n",
        "  # data_temp = motors[18300:32400]\n",
        "  # # data_temp = trim_x_array(motors[0])\n",
        "  # # labels = y_temp[2500:4900]\n",
        "  # labels = y_temp[2450:5500]\n",
        "  # data_extr = data_temp[::samp_rate_matcher].copy()\n",
        "  # n = 2450\n",
        "  # data = data_extr[:n]\n",
        "\n",
        "  # #######################\n",
        "  # # data = data[:1200]\n",
        "  # # labels = labels[:1200]\n",
        "\n",
        "  # data = data[:n]\n",
        "  # labels = labels[:n]\n",
        "  return data, labels"
      ],
      "metadata": {
        "id": "lo1L7K5ZOe09"
      },
      "execution_count": 2,
      "outputs": []
    },
    {
      "cell_type": "code",
      "source": [
        "features_70, target_70 = observe_data('test70', 'y70')\n",
        "\n",
        "\n",
        "# plt.plot(features_70[18300:32300])\n",
        "# plt.plot(target_70[2500:4900])\n",
        "features_70 = features_70[18300:32300]\n",
        "target_70 = target_70[2500:4900]\n",
        "print(len(features_70))\n",
        "print(len(target_70))\n",
        "features_80, target_80 = observe_data('features80', 'target80')\n",
        "# plt.plot(features_80[18100:32400])\n",
        "# plt.plot(target_80[2500:4900])\n",
        "\n",
        "features_80 = features_80[18100:32400]\n",
        "target_80 = target_80[2500:4900]\n",
        "print(len(features_80))\n",
        "print(len(target_80))\n",
        "features_90, target_90 = observe_data('test90', 'y90')\n",
        "#plt.plot(features_90[18300:31000])\n",
        "#plt.plot(target_90[2500:4900])\n",
        "features_90 = features_90[18300:31000]\n",
        "target_90 = target_90[2500:4900]\n",
        "print(len(features_90))\n",
        "print(len(target_90))\n",
        "\n",
        "features_100, target_100 = observe_data('features100', 'target100')\n",
        "# plt.plot(features_100[18300:32300])\n",
        "#plt.plot(target_100[2500:4800])\n",
        "\n",
        "features_100 = features_100[18300:32300]\n",
        "target_100 = target_100[2500:4800]\n",
        "print(len(features_100))\n",
        "print(len(target_100))\n",
        "\n",
        "features_110, target_110 = observe_data('features110', 'target110')\n",
        "#plt.plot(features_110[18100:32400])\n",
        "# plt.plot(target_110[2500:4900])\n",
        "features_110 = features_110[18100:32400]\n",
        "target_110 = target_110[2500:4900]\n",
        "print(len(features_110))\n",
        "print(len(target_110))\n",
        "\n",
        "features_120, target_120 = observe_data('features120', 'target120')\n",
        "# plt.plot(features_120[17500:31700])\n",
        "#plt.plot(target_120[2700:5000])\n",
        "\n",
        "features_120 = features_120[17500:31700]\n",
        "target_120 = target_120[2700:5000]\n",
        "print(len(features_120))\n",
        "print(len(target_120))\n",
        "\n",
        "\n",
        "features_130, target_130 = observe_data('features130', 'target130')\n",
        "#plt.plot(features_130[18400:32800])\n",
        "#plt.plot(target_130[2500:4900])\n",
        "features_130 = features_130[18400:32800]\n",
        "target_130 = target_130[2500:4900]\n",
        "print(len(features_130))\n",
        "print(len(target_130))\n",
        "\n",
        "\n",
        "features_140, target_140 = observe_data('features140', 'target140')\n",
        "# plt.plot(features_140[17400:31800])\n",
        "# plt.plot(target_140[2500:4900])\n",
        "\n",
        "features_140 = features_140[17400:31800]\n",
        "target_140 = target_140[2500:4900]\n",
        "print(len(features_140))\n",
        "print(len(target_140))\n",
        "\n",
        "\n",
        "features_150, target_150 = observe_data('features150', 'target150')\n",
        "# plt.plot(features_150[20000:34500])\n",
        "# plt.plot(target_150[2700:5300])\n",
        "\n",
        "features_150 = features_150[20000:34500]\n",
        "target_150 = target_150[2700:5300]\n",
        "print(len(features_150))\n",
        "print(len(target_150))"
      ],
      "metadata": {
        "colab": {
          "base_uri": "https://localhost:8080/"
        },
        "id": "zh2umNglTWFL",
        "outputId": "dde07141-0f41-4bbf-806a-75624b783a28"
      },
      "execution_count": 3,
      "outputs": [
        {
          "output_type": "stream",
          "name": "stderr",
          "text": [
            "<ipython-input-2-b583acf231c1>:15: DeprecationWarning: `np.float` is a deprecated alias for the builtin `float`. To silence this warning, use `float` by itself. Doing this will not modify any behavior and is safe. If you specifically wanted the numpy scalar type, use `np.float64` here.\n",
            "Deprecated in NumPy 1.20; for more details and guidance: https://numpy.org/devdocs/release/1.20.0-notes.html#deprecations\n",
            "  labels = y_temp.astype(np.float)\n"
          ]
        },
        {
          "output_type": "stream",
          "name": "stdout",
          "text": [
            "14000\n",
            "2400\n"
          ]
        },
        {
          "output_type": "stream",
          "name": "stderr",
          "text": [
            "<ipython-input-2-b583acf231c1>:15: DeprecationWarning: `np.float` is a deprecated alias for the builtin `float`. To silence this warning, use `float` by itself. Doing this will not modify any behavior and is safe. If you specifically wanted the numpy scalar type, use `np.float64` here.\n",
            "Deprecated in NumPy 1.20; for more details and guidance: https://numpy.org/devdocs/release/1.20.0-notes.html#deprecations\n",
            "  labels = y_temp.astype(np.float)\n"
          ]
        },
        {
          "output_type": "stream",
          "name": "stdout",
          "text": [
            "14300\n",
            "2400\n"
          ]
        },
        {
          "output_type": "stream",
          "name": "stderr",
          "text": [
            "<ipython-input-2-b583acf231c1>:15: DeprecationWarning: `np.float` is a deprecated alias for the builtin `float`. To silence this warning, use `float` by itself. Doing this will not modify any behavior and is safe. If you specifically wanted the numpy scalar type, use `np.float64` here.\n",
            "Deprecated in NumPy 1.20; for more details and guidance: https://numpy.org/devdocs/release/1.20.0-notes.html#deprecations\n",
            "  labels = y_temp.astype(np.float)\n"
          ]
        },
        {
          "output_type": "stream",
          "name": "stdout",
          "text": [
            "12700\n",
            "2400\n"
          ]
        },
        {
          "output_type": "stream",
          "name": "stderr",
          "text": [
            "<ipython-input-2-b583acf231c1>:15: DeprecationWarning: `np.float` is a deprecated alias for the builtin `float`. To silence this warning, use `float` by itself. Doing this will not modify any behavior and is safe. If you specifically wanted the numpy scalar type, use `np.float64` here.\n",
            "Deprecated in NumPy 1.20; for more details and guidance: https://numpy.org/devdocs/release/1.20.0-notes.html#deprecations\n",
            "  labels = y_temp.astype(np.float)\n"
          ]
        },
        {
          "output_type": "stream",
          "name": "stdout",
          "text": [
            "14000\n",
            "2300\n"
          ]
        },
        {
          "output_type": "stream",
          "name": "stderr",
          "text": [
            "<ipython-input-2-b583acf231c1>:15: DeprecationWarning: `np.float` is a deprecated alias for the builtin `float`. To silence this warning, use `float` by itself. Doing this will not modify any behavior and is safe. If you specifically wanted the numpy scalar type, use `np.float64` here.\n",
            "Deprecated in NumPy 1.20; for more details and guidance: https://numpy.org/devdocs/release/1.20.0-notes.html#deprecations\n",
            "  labels = y_temp.astype(np.float)\n"
          ]
        },
        {
          "output_type": "stream",
          "name": "stdout",
          "text": [
            "14300\n",
            "2400\n"
          ]
        },
        {
          "output_type": "stream",
          "name": "stderr",
          "text": [
            "<ipython-input-2-b583acf231c1>:15: DeprecationWarning: `np.float` is a deprecated alias for the builtin `float`. To silence this warning, use `float` by itself. Doing this will not modify any behavior and is safe. If you specifically wanted the numpy scalar type, use `np.float64` here.\n",
            "Deprecated in NumPy 1.20; for more details and guidance: https://numpy.org/devdocs/release/1.20.0-notes.html#deprecations\n",
            "  labels = y_temp.astype(np.float)\n"
          ]
        },
        {
          "output_type": "stream",
          "name": "stdout",
          "text": [
            "14200\n",
            "2300\n"
          ]
        },
        {
          "output_type": "stream",
          "name": "stderr",
          "text": [
            "<ipython-input-2-b583acf231c1>:15: DeprecationWarning: `np.float` is a deprecated alias for the builtin `float`. To silence this warning, use `float` by itself. Doing this will not modify any behavior and is safe. If you specifically wanted the numpy scalar type, use `np.float64` here.\n",
            "Deprecated in NumPy 1.20; for more details and guidance: https://numpy.org/devdocs/release/1.20.0-notes.html#deprecations\n",
            "  labels = y_temp.astype(np.float)\n"
          ]
        },
        {
          "output_type": "stream",
          "name": "stdout",
          "text": [
            "14400\n",
            "2400\n"
          ]
        },
        {
          "output_type": "stream",
          "name": "stderr",
          "text": [
            "<ipython-input-2-b583acf231c1>:15: DeprecationWarning: `np.float` is a deprecated alias for the builtin `float`. To silence this warning, use `float` by itself. Doing this will not modify any behavior and is safe. If you specifically wanted the numpy scalar type, use `np.float64` here.\n",
            "Deprecated in NumPy 1.20; for more details and guidance: https://numpy.org/devdocs/release/1.20.0-notes.html#deprecations\n",
            "  labels = y_temp.astype(np.float)\n"
          ]
        },
        {
          "output_type": "stream",
          "name": "stdout",
          "text": [
            "14400\n",
            "2400\n",
            "14500\n",
            "2600\n"
          ]
        },
        {
          "output_type": "stream",
          "name": "stderr",
          "text": [
            "<ipython-input-2-b583acf231c1>:15: DeprecationWarning: `np.float` is a deprecated alias for the builtin `float`. To silence this warning, use `float` by itself. Doing this will not modify any behavior and is safe. If you specifically wanted the numpy scalar type, use `np.float64` here.\n",
            "Deprecated in NumPy 1.20; for more details and guidance: https://numpy.org/devdocs/release/1.20.0-notes.html#deprecations\n",
            "  labels = y_temp.astype(np.float)\n"
          ]
        }
      ]
    },
    {
      "cell_type": "code",
      "source": [
        "def preprocess_x_y(x_data, y_data):\n",
        "  file_path = f'/content/drive/MyDrive/Tensegrity_ML/{x_data}.csv'\n",
        "  x_70 = pd.read_csv(file_path)\n",
        "\n",
        "  y_70 = pd.read_csv(f'/content/drive/MyDrive/Tensegrity_ML/{y_data}.csv')\n",
        "  Y_70 = y_70.iloc[4:, 2:5]\n",
        "  Y_70.drop(Y_70.index[0], inplace=True) ##remove the first row which is header\n",
        "  Y_70.reset_index(drop=True, inplace=True)\n",
        "\n",
        "  motors = x_70.to_numpy()\n",
        "  y_temp = Y_70.to_numpy()\n",
        "  y_temp = y_temp.astype(np.float)\n",
        "  # data = x_70.to_numpy()\n",
        "  # y_temp = Y_70.to_numpy()\n",
        "  # labels = y_temp.astype(np.float)\n",
        "\n",
        "  Y_len = 2400\n",
        "  X_len = 14100\n",
        "  samp_rate_matcher = X_len//Y_len\n",
        "\n",
        "  data_temp = motors[18300:32400]\n",
        "  # data_temp = trim_x_array(motors[0])\n",
        "  # labels = y_temp[2500:4900]\n",
        "  labels = y_temp[2450:5500]\n",
        "  data_extr = data_temp[::samp_rate_matcher].copy()\n",
        "  n = 2450\n",
        "  data = data_extr[:n]\n",
        "\n",
        "  #######################\n",
        "  # data = data[:1200]\n",
        "  # labels = labels[:1200]\n",
        "\n",
        "  data = data[:n]\n",
        "  labels = labels[:n]\n",
        "  return data, labels"
      ],
      "metadata": {
        "id": "XXOrH_dwouri"
      },
      "execution_count": 4,
      "outputs": []
    },
    {
      "cell_type": "code",
      "source": [
        "#new function to match features and target data\n",
        "def equalizer(features, target):\n",
        "  #np_features = features.to_numpy()\n",
        "  #np_target = target.to_numpy()\n",
        "  #np_target = np_target.astype(np.float)\n",
        "\n",
        "  X_len = len(features)\n",
        "  Y_len = len(target)\n",
        "  samp_rate_matcher = X_len//Y_len\n",
        "\n",
        "  features = features[::samp_rate_matcher].copy()\n",
        "  features = pd.DataFrame(features)\n",
        "  target = pd.DataFrame(target)\n",
        "\n",
        "  if abs(X_len-Y_len)>0:\n",
        "    features = features[:Y_len]\n",
        "  else:\n",
        "    pass\n",
        "  features = features[:Y_len//2]\n",
        "  target = target[:Y_len//2]\n",
        "  return features, target\n"
      ],
      "metadata": {
        "id": "T4vzBYnGBoUB"
      },
      "execution_count": 5,
      "outputs": []
    },
    {
      "cell_type": "code",
      "source": [
        "features70_equal, target70_equal = equalizer(features_70, target_70)\n",
        "# features70_equal = pd.DataFrame(features70_equal)\n",
        "# target70_equal = pd.DataFrame(target70_equal)\n",
        "print(len(features70_equal))\n",
        "print(len(target70_equal))\n",
        "\n",
        "features80_equal, target80_equal = equalizer(features_80, target_80)\n",
        "# features80_equal = pd.DataFrame(features80_equal)\n",
        "# target80_equal = pd.DataFrame(target80_equal)\n",
        "print(len(features80_equal))\n",
        "print(len(target80_equal))\n",
        "features90_equal, target90_equal = equalizer(features_90, target_90)\n",
        "# features90_equal = pd.DataFrame(features90_equal)\n",
        "# target90_equal = pd.DataFrame(target90_equal)\n",
        "print(len(features90_equal))\n",
        "print(len(target90_equal))\n",
        "features100_equal, target100_equal = equalizer(features_100, target_100)\n",
        "# features100_equal = pd.DataFrame(features100_equal)\n",
        "# target100_equal = pd.DataFrame(target100_equal)\n",
        "print(len(features100_equal))\n",
        "print(len(target100_equal))\n",
        "features110_equal, target110_equal = equalizer(features_110, target_110)\n",
        "# features110_equal = pd.DataFrame(features110_equal)\n",
        "# target110_equal = pd.DataFrame(target110_equal)\n",
        "print(len(features110_equal))\n",
        "print(len(target110_equal))\n",
        "features120_equal, target120_equal = equalizer(features_120, target_120)\n",
        "# features120_equal = pd.DataFrame(features120_equal)\n",
        "# target120_equal = pd.DataFrame(target120_equal)\n",
        "print(len(features120_equal))\n",
        "print(len(target120_equal))\n",
        "features130_equal, target130_equal = equalizer(features_130, target_130)\n",
        "# features130_equal = pd.DataFrame(features130_equal)\n",
        "# target130_equal = pd.DataFrame(target130_equal)\n",
        "print(len(features130_equal))\n",
        "print(len(target130_equal))\n",
        "features140_equal, target140_equal = equalizer(features_140, target_140)\n",
        "# features140_equal = pd.DataFrame(features140_equal)\n",
        "# target140_equal = pd.DataFrame(target140_equal)\n",
        "print(len(features140_equal))\n",
        "print(len(target140_equal))\n",
        "features150_equal, target150_equal = equalizer(features_150, target_150)\n",
        "# features150_equal = pd.DataFrame(features150_equal)\n",
        "# target150_equal = pd.DataFrame(target150_equal)\n",
        "print(type(features150_equal))\n",
        "print(type(target150_equal))"
      ],
      "metadata": {
        "colab": {
          "base_uri": "https://localhost:8080/"
        },
        "id": "8GaPdUMCDKUn",
        "outputId": "5f9e8237-9de3-4d33-e998-5ca8ec0b81b8"
      },
      "execution_count": 6,
      "outputs": [
        {
          "output_type": "stream",
          "name": "stdout",
          "text": [
            "1200\n",
            "1200\n",
            "1200\n",
            "1200\n",
            "1200\n",
            "1200\n",
            "1150\n",
            "1150\n",
            "1200\n",
            "1200\n",
            "1150\n",
            "1150\n",
            "1200\n",
            "1200\n",
            "1200\n",
            "1200\n",
            "<class 'pandas.core.frame.DataFrame'>\n",
            "<class 'pandas.core.frame.DataFrame'>\n"
          ]
        }
      ]
    },
    {
      "cell_type": "code",
      "source": [
        "features_combined_df  = np.concatenate((features80_equal, features90_equal, features70_equal, features110_equal, features120_equal, features130_equal, features140_equal, features150_equal))\n",
        "target_combined_df  = np.concatenate((target80_equal, target90_equal, target70_equal, target110_equal, target120_equal, target130_equal, target140_equal, target150_equal))"
      ],
      "metadata": {
        "id": "xFKx1CCShPui"
      },
      "execution_count": 7,
      "outputs": []
    },
    {
      "cell_type": "code",
      "source": [
        "# features_combined_df = pd.concat([features70_equal, features80_equal, features90_equal, features110_equal, features120_equal, features130_equal, features140_equal, features150_equal], axis=0)"
      ],
      "metadata": {
        "id": "F8oawW_9OoxM"
      },
      "execution_count": null,
      "outputs": []
    },
    {
      "cell_type": "code",
      "source": [
        "# features_combined_df = features_combined_df.reset_index(drop=True)\n",
        "print(target_combined_df.shape)"
      ],
      "metadata": {
        "colab": {
          "base_uri": "https://localhost:8080/"
        },
        "id": "7nr8-EzEc3GG",
        "outputId": "13a3a7a6-87dc-4cf8-8aa0-402763baa866"
      },
      "execution_count": 8,
      "outputs": [
        {
          "output_type": "stream",
          "name": "stdout",
          "text": [
            "(9650, 3)\n"
          ]
        }
      ]
    },
    {
      "cell_type": "code",
      "source": [
        "\n",
        "def removeNaN(arr):\n",
        "  # Assuming arr is your numpy array\n",
        "  # Create a copy to avoid modifying the original array\n",
        "  arr_copy = np.copy(arr)\n",
        "\n",
        "  # Iterate through the array and replace NaN values\n",
        "  for i in range(1, arr.shape[0]-1):\n",
        "    for j in range(arr.shape[1]):\n",
        "        if np.isnan(arr[i, j]):\n",
        "            # Check if at least one of the neighboring values is not NaN\n",
        "            if not (np.isnan(arr[i-1, j]) and np.isnan(arr[i+1, j])):\n",
        "                # Calculate mean of neighboring values\n",
        "                mean_value = np.nanmean([x for x in [arr[i-1, j], arr[i+1, j]] if not np.isnan(x)])\n",
        "                arr_copy[i, j] = mean_value\n",
        "  return arr_copy\n",
        "# arr_copy now contains the array with NaN values replaced by mean of neighboring values"
      ],
      "metadata": {
        "id": "57LudYyLnVA5"
      },
      "execution_count": 9,
      "outputs": []
    },
    {
      "cell_type": "code",
      "source": [
        "features_combined_df = removeNaN(features_combined_df)\n",
        "target_combined_df = removeNaN(target_combined_df)"
      ],
      "metadata": {
        "id": "Y4NQrkO2nuAB"
      },
      "execution_count": 11,
      "outputs": []
    },
    {
      "cell_type": "code",
      "source": [
        "# target_combined_df = pd.concat([target70_equal, target80_equal, target90_equal, target110_equal, target120_equal, target130_equal, target140_equal, target150_equal], axis=0)"
      ],
      "metadata": {
        "id": "nwLnbB8tlLRr"
      },
      "execution_count": null,
      "outputs": []
    },
    {
      "cell_type": "code",
      "source": [
        "# target_combined_df = target_combined_df.reset_index(drop=True)\n",
        "# print(target_combined_df)"
      ],
      "metadata": {
        "colab": {
          "base_uri": "https://localhost:8080/"
        },
        "id": "v_VwViDuc3cl",
        "outputId": "5a7f3312-32d9-48aa-d933-64531e8c7ecb"
      },
      "execution_count": null,
      "outputs": [
        {
          "output_type": "stream",
          "name": "stdout",
          "text": [
            "              0         1         2\n",
            "0     -1.292575  1.545507  1.792016\n",
            "1     -1.292564  1.545506  1.792020\n",
            "2     -1.292565  1.545499  1.792018\n",
            "3     -1.292562  1.545493  1.792020\n",
            "4     -1.292562  1.545496  1.792018\n",
            "...         ...       ...       ...\n",
            "56649 -1.288712  1.540504  1.804143\n",
            "56650 -1.288702  1.540502  1.804138\n",
            "56651 -1.288747  1.540480  1.804011\n",
            "56652 -1.288613  1.540449  1.804147\n",
            "56653 -1.288606  1.540450  1.804147\n",
            "\n",
            "[56654 rows x 3 columns]\n"
          ]
        }
      ]
    },
    {
      "cell_type": "code",
      "source": [
        "# X_train = features_combined_df\n",
        "# y_train = target_combined_df\n",
        "# X_test = features100_equal\n",
        "# y_test = target100_equal"
      ],
      "metadata": {
        "id": "Vpt3q5iNlovR"
      },
      "execution_count": null,
      "outputs": []
    },
    {
      "cell_type": "code",
      "source": [
        "# from sklearn.multioutput import MultiOutputRegressor\n",
        "# from sklearn.linear_model import LinearRegression\n",
        "# from sklearn.ensemble import RandomForestRegressor\n",
        "# from sklearn.svm import SVR\n",
        "# from sklearn.metrics import mean_squared_error\n",
        "# from sklearn.metrics import r2_score\n",
        "\n",
        "# # Define a list of models\n",
        "# models = [\n",
        "#     (\"Linear Regression\", MultiOutputRegressor(LinearRegression())),\n",
        "#     (\"Random Forest\", MultiOutputRegressor(RandomForestRegressor())),\n",
        "#     (\"Support Vector Machine\", MultiOutputRegressor(SVR()))\n",
        "# ]\n",
        "\n",
        "# # Train and evaluate each model\n",
        "# results = []\n",
        "\n",
        "# for name, model in models:\n",
        "#     model.fit(X_train, y_train)\n",
        "#     y_pred = model.predict(X_test)\n",
        "#     mse = mean_squared_error(y_test, y_pred)\n",
        "#     r2 = r2_score(y_test, y_pred)\n",
        "#     results.append((name, mse, r2))\n",
        "\n",
        "# # Display results\n",
        "# for name, mse, r2 in results:\n",
        "#     print(f\"{name} Mean Squared Error: {mse}; R2: {r2}\")"
      ],
      "metadata": {
        "colab": {
          "base_uri": "https://localhost:8080/"
        },
        "id": "LVxx_VNKnJtR",
        "outputId": "20f8d06b-bb57-4b0e-df47-fe93793b8f49"
      },
      "execution_count": null,
      "outputs": [
        {
          "output_type": "stream",
          "name": "stdout",
          "text": [
            "Linear Regression Mean Squared Error: 0.000237997835831317; R2: 0.8799469938913961\n",
            "Random Forest Mean Squared Error: 0.0015859722165051096; R2: 0.6636940495735364\n",
            "Support Vector Machine Mean Squared Error: 0.0015266633083082682; R2: 0.4308471054923045\n"
          ]
        }
      ]
    },
    {
      "cell_type": "markdown",
      "source": [
        "NEXT: inverse task\n"
      ],
      "metadata": {
        "id": "O5JbMGkI1vaP"
      }
    },
    {
      "cell_type": "code",
      "source": [
        "X_train = target_combined_df\n",
        "y_train =  features_combined_df\n",
        "X_test = target100_equal\n",
        "y_test = features100_equal\n"
      ],
      "metadata": {
        "id": "GkafLxIG1AWl"
      },
      "execution_count": 12,
      "outputs": []
    },
    {
      "cell_type": "code",
      "source": [
        "len(y_train)"
      ],
      "metadata": {
        "colab": {
          "base_uri": "https://localhost:8080/"
        },
        "id": "H81O_HwiRO9m",
        "outputId": "6ef5f9e4-626a-4ebc-a6f7-2d5fc3c18776"
      },
      "execution_count": 25,
      "outputs": [
        {
          "output_type": "execute_result",
          "data": {
            "text/plain": [
              "9650"
            ]
          },
          "metadata": {},
          "execution_count": 25
        }
      ]
    },
    {
      "cell_type": "code",
      "source": [
        "from sklearn.multioutput import MultiOutputRegressor\n",
        "from sklearn.linear_model import LinearRegression\n",
        "from sklearn.ensemble import RandomForestRegressor\n",
        "from sklearn.svm import SVR\n",
        "from sklearn.metrics import mean_squared_error\n",
        "from sklearn.metrics import r2_score\n",
        "\n",
        "# Define a list of models\n",
        "models = [\n",
        "    (\"Linear Regression\", MultiOutputRegressor(LinearRegression())),\n",
        "    (\"Random Forest\", MultiOutputRegressor(RandomForestRegressor())),\n",
        "    (\"Support Vector Machine\", MultiOutputRegressor(SVR()))\n",
        "]\n",
        "\n",
        "# Train and evaluate each model\n",
        "results = []\n",
        "\n",
        "for name, model in models:\n",
        "    model.fit(X_train, y_train)\n",
        "    y_pred = model.predict(X_test)\n",
        "    mse = mean_squared_error(y_test, y_pred)\n",
        "    r2 = r2_score(y_test, y_pred)\n",
        "    results.append((name, mse, r2))\n",
        "\n",
        "# Display results\n",
        "for name, mse, r2 in results:\n",
        "    print(f\"{name} Mean Squared Error: {mse}; R2: {r2}\")"
      ],
      "metadata": {
        "colab": {
          "base_uri": "https://localhost:8080/"
        },
        "id": "u1M9b9x-1_BZ",
        "outputId": "ae0734cf-dcc7-4339-b14b-c240897b7e57"
      },
      "execution_count": 13,
      "outputs": [
        {
          "output_type": "stream",
          "name": "stdout",
          "text": [
            "Linear Regression Mean Squared Error: 0.09069144278521164; R2: 0.940629058373436\n",
            "Random Forest Mean Squared Error: 0.5332722607732311; R2: 0.6491323985743473\n",
            "Support Vector Machine Mean Squared Error: 0.08545421353264503; R2: 0.9442562622103661\n"
          ]
        }
      ]
    },
    {
      "cell_type": "markdown",
      "source": [
        "# Random tests:"
      ],
      "metadata": {
        "id": "ANAOK4lizaWX"
      }
    },
    {
      "cell_type": "code",
      "source": [
        "check_x1 = np.array([[-1.075, 1.552, 1.803]])\n",
        "for name, model in models:\n",
        "  y_pred = model.predict(check_x1)\n",
        "  print(\"prediction of \"+ name + \":\")\n",
        "  print(y_pred)\n",
        "\n",
        "\n"
      ],
      "metadata": {
        "colab": {
          "base_uri": "https://localhost:8080/"
        },
        "id": "9ohjPs-l9VH2",
        "outputId": "5d27c795-9966-4481-c7e6-898cfa0f339f"
      },
      "execution_count": 17,
      "outputs": [
        {
          "output_type": "stream",
          "name": "stdout",
          "text": [
            "prediction of Linear Regression:\n",
            "[[ 1.44046443 -2.8846152  -2.08500619  1.46326315]]\n",
            "prediction of Random Forest:\n",
            "[[ 1.01561179 -2.21181437 -1.30298061  0.43774399]]\n",
            "prediction of Support Vector Machine:\n",
            "[[ 1.42460014 -2.92638333 -2.10336275  1.44770238]]\n"
          ]
        }
      ]
    },
    {
      "cell_type": "code",
      "source": [
        "check_x1 = np.array([[-1.075, 1.552, 1.803]])\n",
        "for name, model in models:\n",
        "  y_pred = model.predict(check_x1)\n",
        "  print(\"prediction of \"+ name + \":\")\n",
        "  print(y_pred)"
      ],
      "metadata": {
        "id": "yhhNpDCzSlNZ"
      },
      "execution_count": null,
      "outputs": []
    },
    {
      "cell_type": "code",
      "source": [
        "#convertation of radians to angles\n",
        "\n",
        "check_y1 = np.array([[1.44046443, -2.8846152,  -2.08500619,  1.46326315]])  # Array of radians\n",
        "\n",
        "# Convert radians to degrees\n",
        "check_angles_degrees1 = np.degrees(check_y1)\n",
        "\n",
        "# Convert to a list\n",
        "check_angles_list1 = check_angles_degrees1.tolist()\n",
        "\n",
        "print(check_angles_list1)"
      ],
      "metadata": {
        "colab": {
          "base_uri": "https://localhost:8080/"
        },
        "id": "q5lSOKNwcNk8",
        "outputId": "1e721a82-d28c-4013-e2b8-542be522c44d"
      },
      "execution_count": 18,
      "outputs": [
        {
          "output_type": "stream",
          "name": "stdout",
          "text": [
            "[[82.5325323777178, -165.27627647928585, -119.46205494565183, 83.8388028120183]]\n"
          ]
        }
      ]
    },
    {
      "cell_type": "code",
      "source": [
        "check_x2 = np.array([[-1.274, 1.541, 1.603]])\n",
        "for name, model in models:\n",
        "  y_pred = model.predict(check_x2)\n",
        "  print(\"prediction of \"+ name + \":\")\n",
        "  print(y_pred)"
      ],
      "metadata": {
        "colab": {
          "base_uri": "https://localhost:8080/"
        },
        "id": "dQ6JPY8H-XUA",
        "outputId": "5125e0e9-378b-4f3c-ba1a-18a741fd48df"
      },
      "execution_count": 19,
      "outputs": [
        {
          "output_type": "stream",
          "name": "stdout",
          "text": [
            "prediction of Linear Regression:\n",
            "[[-1.46863284 -1.81522034  1.20689796  2.03247097]]\n",
            "prediction of Random Forest:\n",
            "[[-0.76442157 -1.98135917  0.14138511  1.97733486]]\n",
            "prediction of Support Vector Machine:\n",
            "[[-1.51391479 -1.97024177  1.27193951  2.08287891]]\n"
          ]
        }
      ]
    },
    {
      "cell_type": "code",
      "source": [
        "#convertation of radians to angles\n",
        "\n",
        "check_y2 = np.array([[-1.46863284, -1.81522034,  1.20689796,  2.03247097]])  # Array of radians\n",
        "\n",
        "# Convert radians to degrees\n",
        "check_angles_degrees2 = np.degrees(check_y2)\n",
        "\n",
        "# Convert to a list\n",
        "check_angles_list2 = check_angles_degrees2.tolist()\n",
        "\n",
        "print(check_angles_list2)"
      ],
      "metadata": {
        "colab": {
          "base_uri": "https://localhost:8080/"
        },
        "id": "XCSWuJ7Ec1IK",
        "outputId": "b9f20159-b51a-442c-8611-37f60d746b95"
      },
      "execution_count": 20,
      "outputs": [
        {
          "output_type": "stream",
          "name": "stdout",
          "text": [
            "[[-84.14646338631191, -104.00446436830232, 69.15015941094885, 116.45200856386055]]\n"
          ]
        }
      ]
    },
    {
      "cell_type": "code",
      "source": [
        "check_x = np.array([[-1.475, 1.523, 1.802]])\n",
        "for name, model in models:\n",
        "  y_pred = model.predict(check_x)\n",
        "  print(\"prediction of \"+ name + \":\")\n",
        "  print(y_pred)"
      ],
      "metadata": {
        "colab": {
          "base_uri": "https://localhost:8080/"
        },
        "id": "-9Uo0Pov-Vg5",
        "outputId": "dd67356e-c3a1-442c-834a-84988dfcc2b2"
      },
      "execution_count": null,
      "outputs": [
        {
          "output_type": "stream",
          "name": "stdout",
          "text": [
            "prediction of Linear Regression:\n",
            "[[-0.96576057  2.2955338   1.73593076 -1.289161  ]]\n",
            "prediction of Random Forest:\n",
            "[[-2.07309654  2.21792388  2.25675855  0.07105566]]\n",
            "prediction of Support Vector Machine:\n",
            "[[-0.92044591  2.28718371  1.71073516 -1.42784848]]\n"
          ]
        }
      ]
    },
    {
      "cell_type": "code",
      "source": [
        "#convertation of radians to angles\n",
        "\n",
        "check_y = np.array([[-0.96576057,  2.2955338,   1.73593076, -1.289161  ]])  # Array of radians\n",
        "\n",
        "# Convert radians to degrees\n",
        "check_angles_degrees = np.degrees(check_y)\n",
        "\n",
        "# Convert to a list\n",
        "check_angles_list = check_angles_degrees.tolist()\n",
        "\n",
        "print(check_angles_list)"
      ],
      "metadata": {
        "colab": {
          "base_uri": "https://localhost:8080/"
        },
        "id": "8684wfUyH2eN",
        "outputId": "38bf10ea-8540-48ba-c12e-dc64d649c7fa"
      },
      "execution_count": null,
      "outputs": [
        {
          "output_type": "stream",
          "name": "stdout",
          "text": [
            "[[-55.334004681148706, 131.524398469628, 99.46150607493743, -73.86348441286472]]\n"
          ]
        }
      ]
    },
    {
      "cell_type": "code",
      "source": [],
      "metadata": {
        "id": "hWSTbeZaZmOH"
      },
      "execution_count": null,
      "outputs": []
    },
    {
      "cell_type": "markdown",
      "source": [
        "# Trajectory following:"
      ],
      "metadata": {
        "id": "F7rO9Adixtmx"
      }
    },
    {
      "cell_type": "code",
      "source": [
        "y_test"
      ],
      "metadata": {
        "colab": {
          "base_uri": "https://localhost:8080/",
          "height": 423
        },
        "id": "30TXb8P0SYO1",
        "outputId": "2bcf5ba5-e15e-48b4-bf20-6a1f3ac37bf0"
      },
      "execution_count": 14,
      "outputs": [
        {
          "output_type": "execute_result",
          "data": {
            "text/plain": [
              "             0         1         2         3\n",
              "0     0.000000  1.720883  0.573976 -1.511505\n",
              "1     0.000000  1.720883  0.573976 -1.511505\n",
              "2     0.000000  1.720883  0.573983 -1.511505\n",
              "3     0.000000  1.720883  0.573983 -1.511505\n",
              "4     0.000000  1.720883  0.573983 -1.511505\n",
              "...        ...       ...       ...       ...\n",
              "1145 -0.402572  1.614318  0.945185 -1.254318\n",
              "1146 -0.400448  1.615151  0.943024 -1.255239\n",
              "1147 -0.400448  1.615151  0.943024 -1.255239\n",
              "1148 -0.374805  1.625251  0.917336 -1.267374\n",
              "1149 -0.374805  1.625251  0.917336 -1.267374\n",
              "\n",
              "[1150 rows x 4 columns]"
            ],
            "text/html": [
              "\n",
              "  <div id=\"df-85e36893-6cf6-45f1-8157-d51d0d2f9dc9\" class=\"colab-df-container\">\n",
              "    <div>\n",
              "<style scoped>\n",
              "    .dataframe tbody tr th:only-of-type {\n",
              "        vertical-align: middle;\n",
              "    }\n",
              "\n",
              "    .dataframe tbody tr th {\n",
              "        vertical-align: top;\n",
              "    }\n",
              "\n",
              "    .dataframe thead th {\n",
              "        text-align: right;\n",
              "    }\n",
              "</style>\n",
              "<table border=\"1\" class=\"dataframe\">\n",
              "  <thead>\n",
              "    <tr style=\"text-align: right;\">\n",
              "      <th></th>\n",
              "      <th>0</th>\n",
              "      <th>1</th>\n",
              "      <th>2</th>\n",
              "      <th>3</th>\n",
              "    </tr>\n",
              "  </thead>\n",
              "  <tbody>\n",
              "    <tr>\n",
              "      <th>0</th>\n",
              "      <td>0.000000</td>\n",
              "      <td>1.720883</td>\n",
              "      <td>0.573976</td>\n",
              "      <td>-1.511505</td>\n",
              "    </tr>\n",
              "    <tr>\n",
              "      <th>1</th>\n",
              "      <td>0.000000</td>\n",
              "      <td>1.720883</td>\n",
              "      <td>0.573976</td>\n",
              "      <td>-1.511505</td>\n",
              "    </tr>\n",
              "    <tr>\n",
              "      <th>2</th>\n",
              "      <td>0.000000</td>\n",
              "      <td>1.720883</td>\n",
              "      <td>0.573983</td>\n",
              "      <td>-1.511505</td>\n",
              "    </tr>\n",
              "    <tr>\n",
              "      <th>3</th>\n",
              "      <td>0.000000</td>\n",
              "      <td>1.720883</td>\n",
              "      <td>0.573983</td>\n",
              "      <td>-1.511505</td>\n",
              "    </tr>\n",
              "    <tr>\n",
              "      <th>4</th>\n",
              "      <td>0.000000</td>\n",
              "      <td>1.720883</td>\n",
              "      <td>0.573983</td>\n",
              "      <td>-1.511505</td>\n",
              "    </tr>\n",
              "    <tr>\n",
              "      <th>...</th>\n",
              "      <td>...</td>\n",
              "      <td>...</td>\n",
              "      <td>...</td>\n",
              "      <td>...</td>\n",
              "    </tr>\n",
              "    <tr>\n",
              "      <th>1145</th>\n",
              "      <td>-0.402572</td>\n",
              "      <td>1.614318</td>\n",
              "      <td>0.945185</td>\n",
              "      <td>-1.254318</td>\n",
              "    </tr>\n",
              "    <tr>\n",
              "      <th>1146</th>\n",
              "      <td>-0.400448</td>\n",
              "      <td>1.615151</td>\n",
              "      <td>0.943024</td>\n",
              "      <td>-1.255239</td>\n",
              "    </tr>\n",
              "    <tr>\n",
              "      <th>1147</th>\n",
              "      <td>-0.400448</td>\n",
              "      <td>1.615151</td>\n",
              "      <td>0.943024</td>\n",
              "      <td>-1.255239</td>\n",
              "    </tr>\n",
              "    <tr>\n",
              "      <th>1148</th>\n",
              "      <td>-0.374805</td>\n",
              "      <td>1.625251</td>\n",
              "      <td>0.917336</td>\n",
              "      <td>-1.267374</td>\n",
              "    </tr>\n",
              "    <tr>\n",
              "      <th>1149</th>\n",
              "      <td>-0.374805</td>\n",
              "      <td>1.625251</td>\n",
              "      <td>0.917336</td>\n",
              "      <td>-1.267374</td>\n",
              "    </tr>\n",
              "  </tbody>\n",
              "</table>\n",
              "<p>1150 rows × 4 columns</p>\n",
              "</div>\n",
              "    <div class=\"colab-df-buttons\">\n",
              "\n",
              "  <div class=\"colab-df-container\">\n",
              "    <button class=\"colab-df-convert\" onclick=\"convertToInteractive('df-85e36893-6cf6-45f1-8157-d51d0d2f9dc9')\"\n",
              "            title=\"Convert this dataframe to an interactive table.\"\n",
              "            style=\"display:none;\">\n",
              "\n",
              "  <svg xmlns=\"http://www.w3.org/2000/svg\" height=\"24px\" viewBox=\"0 -960 960 960\">\n",
              "    <path d=\"M120-120v-720h720v720H120Zm60-500h600v-160H180v160Zm220 220h160v-160H400v160Zm0 220h160v-160H400v160ZM180-400h160v-160H180v160Zm440 0h160v-160H620v160ZM180-180h160v-160H180v160Zm440 0h160v-160H620v160Z\"/>\n",
              "  </svg>\n",
              "    </button>\n",
              "\n",
              "  <style>\n",
              "    .colab-df-container {\n",
              "      display:flex;\n",
              "      gap: 12px;\n",
              "    }\n",
              "\n",
              "    .colab-df-convert {\n",
              "      background-color: #E8F0FE;\n",
              "      border: none;\n",
              "      border-radius: 50%;\n",
              "      cursor: pointer;\n",
              "      display: none;\n",
              "      fill: #1967D2;\n",
              "      height: 32px;\n",
              "      padding: 0 0 0 0;\n",
              "      width: 32px;\n",
              "    }\n",
              "\n",
              "    .colab-df-convert:hover {\n",
              "      background-color: #E2EBFA;\n",
              "      box-shadow: 0px 1px 2px rgba(60, 64, 67, 0.3), 0px 1px 3px 1px rgba(60, 64, 67, 0.15);\n",
              "      fill: #174EA6;\n",
              "    }\n",
              "\n",
              "    .colab-df-buttons div {\n",
              "      margin-bottom: 4px;\n",
              "    }\n",
              "\n",
              "    [theme=dark] .colab-df-convert {\n",
              "      background-color: #3B4455;\n",
              "      fill: #D2E3FC;\n",
              "    }\n",
              "\n",
              "    [theme=dark] .colab-df-convert:hover {\n",
              "      background-color: #434B5C;\n",
              "      box-shadow: 0px 1px 3px 1px rgba(0, 0, 0, 0.15);\n",
              "      filter: drop-shadow(0px 1px 2px rgba(0, 0, 0, 0.3));\n",
              "      fill: #FFFFFF;\n",
              "    }\n",
              "  </style>\n",
              "\n",
              "    <script>\n",
              "      const buttonEl =\n",
              "        document.querySelector('#df-85e36893-6cf6-45f1-8157-d51d0d2f9dc9 button.colab-df-convert');\n",
              "      buttonEl.style.display =\n",
              "        google.colab.kernel.accessAllowed ? 'block' : 'none';\n",
              "\n",
              "      async function convertToInteractive(key) {\n",
              "        const element = document.querySelector('#df-85e36893-6cf6-45f1-8157-d51d0d2f9dc9');\n",
              "        const dataTable =\n",
              "          await google.colab.kernel.invokeFunction('convertToInteractive',\n",
              "                                                    [key], {});\n",
              "        if (!dataTable) return;\n",
              "\n",
              "        const docLinkHtml = 'Like what you see? Visit the ' +\n",
              "          '<a target=\"_blank\" href=https://colab.research.google.com/notebooks/data_table.ipynb>data table notebook</a>'\n",
              "          + ' to learn more about interactive tables.';\n",
              "        element.innerHTML = '';\n",
              "        dataTable['output_type'] = 'display_data';\n",
              "        await google.colab.output.renderOutput(dataTable, element);\n",
              "        const docLink = document.createElement('div');\n",
              "        docLink.innerHTML = docLinkHtml;\n",
              "        element.appendChild(docLink);\n",
              "      }\n",
              "    </script>\n",
              "  </div>\n",
              "\n",
              "\n",
              "<div id=\"df-9b0a7280-f48e-413a-8865-4b9d60e67476\">\n",
              "  <button class=\"colab-df-quickchart\" onclick=\"quickchart('df-9b0a7280-f48e-413a-8865-4b9d60e67476')\"\n",
              "            title=\"Suggest charts.\"\n",
              "            style=\"display:none;\">\n",
              "\n",
              "<svg xmlns=\"http://www.w3.org/2000/svg\" height=\"24px\"viewBox=\"0 0 24 24\"\n",
              "     width=\"24px\">\n",
              "    <g>\n",
              "        <path d=\"M19 3H5c-1.1 0-2 .9-2 2v14c0 1.1.9 2 2 2h14c1.1 0 2-.9 2-2V5c0-1.1-.9-2-2-2zM9 17H7v-7h2v7zm4 0h-2V7h2v10zm4 0h-2v-4h2v4z\"/>\n",
              "    </g>\n",
              "</svg>\n",
              "  </button>\n",
              "\n",
              "<style>\n",
              "  .colab-df-quickchart {\n",
              "      --bg-color: #E8F0FE;\n",
              "      --fill-color: #1967D2;\n",
              "      --hover-bg-color: #E2EBFA;\n",
              "      --hover-fill-color: #174EA6;\n",
              "      --disabled-fill-color: #AAA;\n",
              "      --disabled-bg-color: #DDD;\n",
              "  }\n",
              "\n",
              "  [theme=dark] .colab-df-quickchart {\n",
              "      --bg-color: #3B4455;\n",
              "      --fill-color: #D2E3FC;\n",
              "      --hover-bg-color: #434B5C;\n",
              "      --hover-fill-color: #FFFFFF;\n",
              "      --disabled-bg-color: #3B4455;\n",
              "      --disabled-fill-color: #666;\n",
              "  }\n",
              "\n",
              "  .colab-df-quickchart {\n",
              "    background-color: var(--bg-color);\n",
              "    border: none;\n",
              "    border-radius: 50%;\n",
              "    cursor: pointer;\n",
              "    display: none;\n",
              "    fill: var(--fill-color);\n",
              "    height: 32px;\n",
              "    padding: 0;\n",
              "    width: 32px;\n",
              "  }\n",
              "\n",
              "  .colab-df-quickchart:hover {\n",
              "    background-color: var(--hover-bg-color);\n",
              "    box-shadow: 0 1px 2px rgba(60, 64, 67, 0.3), 0 1px 3px 1px rgba(60, 64, 67, 0.15);\n",
              "    fill: var(--button-hover-fill-color);\n",
              "  }\n",
              "\n",
              "  .colab-df-quickchart-complete:disabled,\n",
              "  .colab-df-quickchart-complete:disabled:hover {\n",
              "    background-color: var(--disabled-bg-color);\n",
              "    fill: var(--disabled-fill-color);\n",
              "    box-shadow: none;\n",
              "  }\n",
              "\n",
              "  .colab-df-spinner {\n",
              "    border: 2px solid var(--fill-color);\n",
              "    border-color: transparent;\n",
              "    border-bottom-color: var(--fill-color);\n",
              "    animation:\n",
              "      spin 1s steps(1) infinite;\n",
              "  }\n",
              "\n",
              "  @keyframes spin {\n",
              "    0% {\n",
              "      border-color: transparent;\n",
              "      border-bottom-color: var(--fill-color);\n",
              "      border-left-color: var(--fill-color);\n",
              "    }\n",
              "    20% {\n",
              "      border-color: transparent;\n",
              "      border-left-color: var(--fill-color);\n",
              "      border-top-color: var(--fill-color);\n",
              "    }\n",
              "    30% {\n",
              "      border-color: transparent;\n",
              "      border-left-color: var(--fill-color);\n",
              "      border-top-color: var(--fill-color);\n",
              "      border-right-color: var(--fill-color);\n",
              "    }\n",
              "    40% {\n",
              "      border-color: transparent;\n",
              "      border-right-color: var(--fill-color);\n",
              "      border-top-color: var(--fill-color);\n",
              "    }\n",
              "    60% {\n",
              "      border-color: transparent;\n",
              "      border-right-color: var(--fill-color);\n",
              "    }\n",
              "    80% {\n",
              "      border-color: transparent;\n",
              "      border-right-color: var(--fill-color);\n",
              "      border-bottom-color: var(--fill-color);\n",
              "    }\n",
              "    90% {\n",
              "      border-color: transparent;\n",
              "      border-bottom-color: var(--fill-color);\n",
              "    }\n",
              "  }\n",
              "</style>\n",
              "\n",
              "  <script>\n",
              "    async function quickchart(key) {\n",
              "      const quickchartButtonEl =\n",
              "        document.querySelector('#' + key + ' button');\n",
              "      quickchartButtonEl.disabled = true;  // To prevent multiple clicks.\n",
              "      quickchartButtonEl.classList.add('colab-df-spinner');\n",
              "      try {\n",
              "        const charts = await google.colab.kernel.invokeFunction(\n",
              "            'suggestCharts', [key], {});\n",
              "      } catch (error) {\n",
              "        console.error('Error during call to suggestCharts:', error);\n",
              "      }\n",
              "      quickchartButtonEl.classList.remove('colab-df-spinner');\n",
              "      quickchartButtonEl.classList.add('colab-df-quickchart-complete');\n",
              "    }\n",
              "    (() => {\n",
              "      let quickchartButtonEl =\n",
              "        document.querySelector('#df-9b0a7280-f48e-413a-8865-4b9d60e67476 button');\n",
              "      quickchartButtonEl.style.display =\n",
              "        google.colab.kernel.accessAllowed ? 'block' : 'none';\n",
              "    })();\n",
              "  </script>\n",
              "</div>\n",
              "    </div>\n",
              "  </div>\n"
            ]
          },
          "metadata": {},
          "execution_count": 14
        }
      ]
    },
    {
      "cell_type": "code",
      "source": [
        "# import random\n",
        "check_x = X_test[::120]\n",
        "check_x  = check_x.sample(frac = 1, random_state = 42)\n",
        "check_y = y_test.iloc[check_x.index]\n",
        "print(check_x)\n",
        "print(check_y)"
      ],
      "metadata": {
        "colab": {
          "base_uri": "https://localhost:8080/"
        },
        "id": "So86XdyT8BsF",
        "outputId": "7395966d-5aae-42ea-d935-24cf5a833ff6"
      },
      "execution_count": 15,
      "outputs": [
        {
          "output_type": "stream",
          "name": "stdout",
          "text": [
            "             0         1         2\n",
            "960  -1.379583  1.530630  1.704714\n",
            "120  -1.323035  1.537472  1.931814\n",
            "600  -1.231099  1.545192  1.714709\n",
            "0    -1.376906  1.533952  1.873151\n",
            "840  -1.342204  1.529984  1.647406\n",
            "240  -1.240606  1.541606  1.940548\n",
            "1080 -1.383319  1.533616  1.802003\n",
            "480  -1.194317  1.550176  1.815619\n",
            "360  -1.196888  1.546126  1.905634\n",
            "720  -1.296268  1.535309  1.657234\n",
            "             0         1         2         3\n",
            "960  -1.632550  0.314176  1.744089  0.303381\n",
            "120   0.941846  1.599964 -0.402804 -1.742009\n",
            "600   0.021490 -1.721359 -0.591350  1.507846\n",
            "0     0.000000  1.720883  0.573976 -1.511505\n",
            "840  -1.676319 -0.784626  1.403236  1.279867\n",
            "240   1.638846  0.881424 -1.317634 -1.355226\n",
            "1080 -0.970885  1.268421  1.392121 -0.792113\n",
            "480   1.068923 -1.160133 -1.469015  0.665430\n",
            "360   1.675109 -0.179793 -1.742486 -0.435139\n",
            "720  -1.033826 -1.563225  0.510641  1.731716\n"
          ]
        }
      ]
    },
    {
      "cell_type": "code",
      "source": [
        "\n",
        "for name, model in models:\n",
        "  y_pred = model.predict(check_x)\n",
        "  print(\"prediction of \"+ name + \":\")\n",
        "  print(y_pred)\n",
        "  print(\"against\")\n",
        "  print(check_y)"
      ],
      "metadata": {
        "colab": {
          "base_uri": "https://localhost:8080/"
        },
        "id": "leuZrtBax0LF",
        "outputId": "52b8c2ba-573a-4d87-e47e-540b441ef2f1"
      },
      "execution_count": 21,
      "outputs": [
        {
          "output_type": "stream",
          "name": "stdout",
          "text": [
            "prediction of Linear Regression:\n",
            "[[-1.22482384  0.33061501  1.51620283  0.31864605]\n",
            " [ 1.03646571  1.25972077 -0.6874626  -1.52242052]\n",
            " [-0.26482734 -1.55167589 -0.01763842  1.23203478]\n",
            " [ 0.21262184  1.52006749  0.24277528 -1.3220789 ]\n",
            " [-1.47523132 -0.55208856  1.61237429  1.14986235]\n",
            " [ 1.61226646  0.27042022 -1.51361186 -1.03174191]\n",
            " [-0.43200421  1.07439788  0.81333162 -0.67093729]\n",
            " [ 0.80544088 -1.29889457 -1.12135987  0.49034703]\n",
            " [ 1.57172142 -0.56649649 -1.69616945 -0.39340064]\n",
            " [-1.12416961 -1.09108111  1.07946704  1.36348153]]\n",
            "against\n",
            "             0         1         2         3\n",
            "960  -1.632550  0.314176  1.744089  0.303381\n",
            "120   0.941846  1.599964 -0.402804 -1.742009\n",
            "600   0.021490 -1.721359 -0.591350  1.507846\n",
            "0     0.000000  1.720883  0.573976 -1.511505\n",
            "840  -1.676319 -0.784626  1.403236  1.279867\n",
            "240   1.638846  0.881424 -1.317634 -1.355226\n",
            "1080 -0.970885  1.268421  1.392121 -0.792113\n",
            "480   1.068923 -1.160133 -1.469015  0.665430\n",
            "360   1.675109 -0.179793 -1.742486 -0.435139\n",
            "720  -1.033826 -1.563225  0.510641  1.731716\n",
            "prediction of Random Forest:\n",
            "[[-1.61058991  0.30531489  1.63271797  0.944837  ]\n",
            " [ 1.2191595  -0.5272874  -1.53632526 -0.14953962]\n",
            " [ 0.44924068 -1.39984026 -0.94182222  1.13429397]\n",
            " [ 1.49868034  1.78391152 -0.31600576 -0.96711195]\n",
            " [-0.75911567 -0.8228347   1.88020541  0.9713673 ]\n",
            " [ 1.68190708 -0.34232334 -1.42646797 -1.31942601]\n",
            " [-0.47604935  1.55042536  0.54483531 -1.05627414]\n",
            " [ 1.36173538 -0.963173   -1.2827596   0.30879524]\n",
            " [ 0.65633885 -1.14355095 -1.18389452  0.26893608]\n",
            " [-1.43180219 -1.01563203  1.48524987  0.42924753]]\n",
            "against\n",
            "             0         1         2         3\n",
            "960  -1.632550  0.314176  1.744089  0.303381\n",
            "120   0.941846  1.599964 -0.402804 -1.742009\n",
            "600   0.021490 -1.721359 -0.591350  1.507846\n",
            "0     0.000000  1.720883  0.573976 -1.511505\n",
            "840  -1.676319 -0.784626  1.403236  1.279867\n",
            "240   1.638846  0.881424 -1.317634 -1.355226\n",
            "1080 -0.970885  1.268421  1.392121 -0.792113\n",
            "480   1.068923 -1.160133 -1.469015  0.665430\n",
            "360   1.675109 -0.179793 -1.742486 -0.435139\n",
            "720  -1.033826 -1.563225  0.510641  1.731716\n",
            "prediction of Support Vector Machine:\n",
            "[[-1.24155766  0.26454632  1.54344788  0.27573349]\n",
            " [ 1.1604098   1.34361565 -0.74635148 -1.64066066]\n",
            " [-0.24117296 -1.59739623  0.02164122  1.23403746]\n",
            " [ 0.32474059  1.59092477  0.21477963 -1.44653947]\n",
            " [-1.54695179 -0.70268699  1.62403753  1.14104457]\n",
            " [ 1.69606019  0.33258751 -1.58249173 -1.11681262]\n",
            " [-0.36134015  1.11007209  0.82494936 -0.7634152 ]\n",
            " [ 0.87855295 -1.25797464 -1.09513223  0.47116749]\n",
            " [ 1.64006835 -0.51122674 -1.73395684 -0.44853305]\n",
            " [-1.16933382 -1.22067509  1.09878061  1.3642435 ]]\n",
            "against\n",
            "             0         1         2         3\n",
            "960  -1.632550  0.314176  1.744089  0.303381\n",
            "120   0.941846  1.599964 -0.402804 -1.742009\n",
            "600   0.021490 -1.721359 -0.591350  1.507846\n",
            "0     0.000000  1.720883  0.573976 -1.511505\n",
            "840  -1.676319 -0.784626  1.403236  1.279867\n",
            "240   1.638846  0.881424 -1.317634 -1.355226\n",
            "1080 -0.970885  1.268421  1.392121 -0.792113\n",
            "480   1.068923 -1.160133 -1.469015  0.665430\n",
            "360   1.675109 -0.179793 -1.742486 -0.435139\n",
            "720  -1.033826 -1.563225  0.510641  1.731716\n"
          ]
        }
      ]
    },
    {
      "cell_type": "code",
      "source": [
        "y_pred_angles = np.degrees(y_pred)\n",
        "check_y_angles = np.degrees(check_y)\n",
        "print('predicted data:')\n",
        "print(y_pred_angles)\n",
        "print('against original data:')\n",
        "print(check_y_angles)"
      ],
      "metadata": {
        "colab": {
          "base_uri": "https://localhost:8080/"
        },
        "id": "vcm5VomxzyFG",
        "outputId": "13ee8990-8898-4ae8-cf7d-61e37422b474"
      },
      "execution_count": 22,
      "outputs": [
        {
          "output_type": "stream",
          "name": "stdout",
          "text": [
            "predicted data:\n",
            "[[-71.136014    15.15738777  88.43304954  15.79836512]\n",
            " [ 66.48658427  76.983506   -42.76278974 -94.00293128]\n",
            " [-13.81819262 -91.52406214   1.2399504   70.70513821]\n",
            " [ 18.60626496  91.15327479  12.30596605 -82.88060635]\n",
            " [-88.63380853 -40.26099885  93.05049641  65.37703813]\n",
            " [ 97.17709088  19.05586092 -90.67009701 -63.98864966]\n",
            " [-20.70326532  63.60244596  47.26611668 -43.74046916]\n",
            " [ 50.33737605 -72.07663752 -62.74645465  26.9959087 ]\n",
            " [ 93.96899441 -29.29113459 -99.34840888 -25.69905067]\n",
            " [-66.99789291 -69.93953081  62.95549131  78.16539488]]\n",
            "against original data:\n",
            "              0          1          2          3\n",
            "960  -93.538204  18.000970  99.928967  17.382463\n",
            "120   53.963781  91.671193 -23.078977 -99.809787\n",
            "600    1.231271 -98.626620 -33.881857  86.393239\n",
            "0      0.000000  98.599340  32.886429 -86.602878\n",
            "840  -96.045977 -44.955759  80.399495  73.330994\n",
            "240   93.898968  50.501862 -75.494873 -77.648705\n",
            "1080 -55.627612  72.675153  79.762683 -45.384729\n",
            "480   61.244797 -66.470697 -84.168332  38.126331\n",
            "360   95.976691 -10.301396 -99.837066 -24.931627\n",
            "720  -59.233839 -89.566183  29.257590  99.220000\n"
          ]
        }
      ]
    },
    {
      "cell_type": "code",
      "source": [],
      "metadata": {
        "id": "ShprEV2CE_Ma"
      },
      "execution_count": null,
      "outputs": []
    },
    {
      "cell_type": "markdown",
      "source": [
        "# Taking only 4 amplitudes instead of 8"
      ],
      "metadata": {
        "id": "lG8qXPkDFCXi"
      }
    },
    {
      "cell_type": "code",
      "source": [
        "features_combined_4_df  = np.concatenate((features70_equal, features110_equal, features130_equal, features150_equal))\n",
        "target_combined_4_df  = np.concatenate((target70_equal, target110_equal, target130_equal, target150_equal))"
      ],
      "metadata": {
        "id": "hQZswlxwFpsF"
      },
      "execution_count": 14,
      "outputs": []
    },
    {
      "cell_type": "code",
      "source": [
        "features_combined_4_df = removeNaN(features_combined_4_df)\n",
        "target_combined_4_df = removeNaN(target_combined_4_df)"
      ],
      "metadata": {
        "id": "CvOjRCvWG-Jb"
      },
      "execution_count": 18,
      "outputs": []
    },
    {
      "cell_type": "code",
      "source": [
        "X_train_mini = target_combined_4_df\n",
        "y_train_mini =  features_combined_4_df\n",
        "X_test_mini = target100_equal\n",
        "y_test_mini = features100_equal"
      ],
      "metadata": {
        "id": "ZiGZXjg7HN7s"
      },
      "execution_count": 19,
      "outputs": []
    },
    {
      "cell_type": "code",
      "source": [
        "len(y_train_mini)"
      ],
      "metadata": {
        "colab": {
          "base_uri": "https://localhost:8080/"
        },
        "id": "RBG_iCh1RA8t",
        "outputId": "8ad16e1d-c1cd-42fc-88f0-68bc1c6c4c53"
      },
      "execution_count": 26,
      "outputs": [
        {
          "output_type": "execute_result",
          "data": {
            "text/plain": [
              "4900"
            ]
          },
          "metadata": {},
          "execution_count": 26
        }
      ]
    },
    {
      "cell_type": "code",
      "source": [
        "from sklearn.multioutput import MultiOutputRegressor\n",
        "from sklearn.linear_model import LinearRegression\n",
        "from sklearn.ensemble import RandomForestRegressor\n",
        "from sklearn.svm import SVR\n",
        "from sklearn.metrics import mean_squared_error\n",
        "from sklearn.metrics import r2_score\n",
        "\n",
        "# Define a list of models\n",
        "models4 = [\n",
        "    (\"Linear Regression\", MultiOutputRegressor(LinearRegression())),\n",
        "    (\"Random Forest\", MultiOutputRegressor(RandomForestRegressor())),\n",
        "    (\"Support Vector Machine\", MultiOutputRegressor(SVR()))\n",
        "]\n",
        "\n",
        "# Train and evaluate each model\n",
        "results_mini = []\n",
        "\n",
        "for name, model4 in models4:\n",
        "    model4.fit(X_train_mini, y_train_mini)\n",
        "    y_pred_mini = model4.predict(X_test_mini)\n",
        "    mse = mean_squared_error(y_test_mini, y_pred_mini)\n",
        "    r2 = r2_score(y_test_mini, y_pred_mini)\n",
        "    results_mini.append((name, mse, r2))\n",
        "\n",
        "# Display results\n",
        "for name, mse, r2 in results_mini:\n",
        "    print(f\"{name} Mean Squared Error: {mse}; R2: {r2}\")"
      ],
      "metadata": {
        "colab": {
          "base_uri": "https://localhost:8080/"
        },
        "id": "rbSFx0r4IBWo",
        "outputId": "47d045b2-83ee-4ba3-c55e-b9e842c7d5e1"
      },
      "execution_count": 28,
      "outputs": [
        {
          "output_type": "stream",
          "name": "stdout",
          "text": [
            "Linear Regression Mean Squared Error: 0.07155872200395122; R2: 0.9531100171214933\n",
            "Random Forest Mean Squared Error: 0.20294557139400057; R2: 0.8673148034791285\n",
            "Support Vector Machine Mean Squared Error: 0.08773111074077636; R2: 0.9427505282727373\n"
          ]
        }
      ]
    },
    {
      "cell_type": "markdown",
      "source": [
        "# Old code:"
      ],
      "metadata": {
        "id": "0RBvRCQLoAsV"
      }
    },
    {
      "cell_type": "code",
      "source": [],
      "metadata": {
        "id": "nGETr-SSmxo-"
      },
      "execution_count": null,
      "outputs": []
    },
    {
      "cell_type": "code",
      "source": [],
      "metadata": {
        "id": "MYshbUZKmyEu"
      },
      "execution_count": null,
      "outputs": []
    },
    {
      "cell_type": "code",
      "source": [
        "features_70, target_70 = preprocess_x_y('test70', 'y70')\n",
        "print(len(features_70))\n",
        "print(len(target_70))"
      ],
      "metadata": {
        "colab": {
          "base_uri": "https://localhost:8080/"
        },
        "id": "valw_Mzfq5mF",
        "outputId": "2d740d26-9e04-446c-df09-d4ab3320bd30"
      },
      "execution_count": null,
      "outputs": [
        {
          "output_type": "stream",
          "name": "stdout",
          "text": [
            "1200\n",
            "1200\n"
          ]
        },
        {
          "output_type": "stream",
          "name": "stderr",
          "text": [
            "<ipython-input-18-4ef7e4dd83c6>:12: DeprecationWarning: `np.float` is a deprecated alias for the builtin `float`. To silence this warning, use `float` by itself. Doing this will not modify any behavior and is safe. If you specifically wanted the numpy scalar type, use `np.float64` here.\n",
            "Deprecated in NumPy 1.20; for more details and guidance: https://numpy.org/devdocs/release/1.20.0-notes.html#deprecations\n",
            "  y_temp = y_temp.astype(np.float)\n"
          ]
        }
      ]
    },
    {
      "cell_type": "code",
      "source": [
        "features_80, target_80 = preprocess_x_y('test80', 'y80')\n",
        "print(len(features_80))\n",
        "print(len(target_80))"
      ],
      "metadata": {
        "colab": {
          "base_uri": "https://localhost:8080/"
        },
        "id": "cCgtGhVzsPVa",
        "outputId": "90a1c9da-21a8-4808-d2ba-c995b8b9bfca"
      },
      "execution_count": null,
      "outputs": [
        {
          "output_type": "stream",
          "name": "stdout",
          "text": [
            "2450\n",
            "1420\n"
          ]
        },
        {
          "output_type": "stream",
          "name": "stderr",
          "text": [
            "<ipython-input-67-9e0fc5b915ba>:12: DeprecationWarning: `np.float` is a deprecated alias for the builtin `float`. To silence this warning, use `float` by itself. Doing this will not modify any behavior and is safe. If you specifically wanted the numpy scalar type, use `np.float64` here.\n",
            "Deprecated in NumPy 1.20; for more details and guidance: https://numpy.org/devdocs/release/1.20.0-notes.html#deprecations\n",
            "  y_temp = y_temp.astype(np.float)\n"
          ]
        }
      ]
    },
    {
      "cell_type": "code",
      "source": [
        "plt.plot(features_80)"
      ],
      "metadata": {
        "colab": {
          "base_uri": "https://localhost:8080/",
          "height": 499
        },
        "id": "L_76ng0V8KTg",
        "outputId": "0bd130d1-6f15-4ead-d783-ca82217cd2cb"
      },
      "execution_count": null,
      "outputs": [
        {
          "output_type": "execute_result",
          "data": {
            "text/plain": [
              "[<matplotlib.lines.Line2D at 0x7de4539d6380>,\n",
              " <matplotlib.lines.Line2D at 0x7de4539d63e0>,\n",
              " <matplotlib.lines.Line2D at 0x7de4539d6410>,\n",
              " <matplotlib.lines.Line2D at 0x7de4539d6500>]"
            ]
          },
          "metadata": {},
          "execution_count": 69
        },
        {
          "output_type": "display_data",
          "data": {
            "text/plain": [
              "<Figure size 640x480 with 1 Axes>"
            ],
            "image/png": "[encoded data removed]"
          },
          "metadata": {}
        }
      ]
    },
    {
      "cell_type": "code",
      "source": [
        "plt.plot(target_80)"
      ],
      "metadata": {
        "colab": {
          "base_uri": "https://localhost:8080/",
          "height": 482
        },
        "id": "M7skSSb_8Q4T",
        "outputId": "f83f3e22-720e-47ba-e929-954887453e09"
      },
      "execution_count": null,
      "outputs": [
        {
          "output_type": "execute_result",
          "data": {
            "text/plain": [
              "[<matplotlib.lines.Line2D at 0x7ab49131b1c0>,\n",
              " <matplotlib.lines.Line2D at 0x7ab4913019c0>,\n",
              " <matplotlib.lines.Line2D at 0x7ab4913019f0>]"
            ]
          },
          "metadata": {},
          "execution_count": 26
        },
        {
          "output_type": "display_data",
          "data": {
            "text/plain": [
              "<Figure size 640x480 with 1 Axes>"
            ],
            "image/png": "[encoded data removed]"
          },
          "metadata": {}
        }
      ]
    },
    {
      "cell_type": "code",
      "source": [
        "features_90, target_90 = preprocess_x_y('test90', 'y90')\n",
        "plt.plot(target_90)"
      ],
      "metadata": {
        "colab": {
          "base_uri": "https://localhost:8080/",
          "height": 554
        },
        "id": "I7ZOiir26d_5",
        "outputId": "f9947d69-6724-4adc-e096-2229af6aa83d"
      },
      "execution_count": null,
      "outputs": [
        {
          "output_type": "stream",
          "name": "stderr",
          "text": [
            "<ipython-input-67-9e0fc5b915ba>:12: DeprecationWarning: `np.float` is a deprecated alias for the builtin `float`. To silence this warning, use `float` by itself. Doing this will not modify any behavior and is safe. If you specifically wanted the numpy scalar type, use `np.float64` here.\n",
            "Deprecated in NumPy 1.20; for more details and guidance: https://numpy.org/devdocs/release/1.20.0-notes.html#deprecations\n",
            "  y_temp = y_temp.astype(np.float)\n"
          ]
        },
        {
          "output_type": "execute_result",
          "data": {
            "text/plain": [
              "[<matplotlib.lines.Line2D at 0x7de452ab2ce0>,\n",
              " <matplotlib.lines.Line2D at 0x7de452ab2dd0>,\n",
              " <matplotlib.lines.Line2D at 0x7de452ab2f20>]"
            ]
          },
          "metadata": {},
          "execution_count": 73
        },
        {
          "output_type": "display_data",
          "data": {
            "text/plain": [
              "<Figure size 640x480 with 1 Axes>"
            ],
            "image/png": "[encoded data removed]"
          },
          "metadata": {}
        }
      ]
    },
    {
      "cell_type": "code",
      "source": [
        "def check_plot(amplitude):\n",
        "  features, target = preprocess_x_y(f'test{amplitude}', f'y{amplitude}')\n",
        "  plt.plot(target)\n"
      ],
      "metadata": {
        "id": "AeuXGBdR8Oqy"
      },
      "execution_count": null,
      "outputs": []
    },
    {
      "cell_type": "code",
      "source": [
        "check_plot(150)"
      ],
      "metadata": {
        "colab": {
          "base_uri": "https://localhost:8080/",
          "height": 502
        },
        "id": "YgxYi62x9_m0",
        "outputId": "1796a958-08c6-4bfa-df7c-0336e3a616fc"
      },
      "execution_count": null,
      "outputs": [
        {
          "output_type": "stream",
          "name": "stderr",
          "text": [
            "<ipython-input-67-9e0fc5b915ba>:12: DeprecationWarning: `np.float` is a deprecated alias for the builtin `float`. To silence this warning, use `float` by itself. Doing this will not modify any behavior and is safe. If you specifically wanted the numpy scalar type, use `np.float64` here.\n",
            "Deprecated in NumPy 1.20; for more details and guidance: https://numpy.org/devdocs/release/1.20.0-notes.html#deprecations\n",
            "  y_temp = y_temp.astype(np.float)\n"
          ]
        },
        {
          "output_type": "display_data",
          "data": {
            "text/plain": [
              "<Figure size 640x480 with 1 Axes>"
            ],
            "image/png": "[encoded data removed]"
          },
          "metadata": {}
        }
      ]
    },
    {
      "cell_type": "code",
      "source": [
        "X_train = features_70\n",
        "y_train = target_70\n",
        "X_test = features_80\n",
        "y_test = target_80\n",
        "#train_test_split(X_70, Y_70, test_size=0.2, random_state=42)"
      ],
      "metadata": {
        "id": "Q_PDLnKPsuXk"
      },
      "execution_count": null,
      "outputs": []
    },
    {
      "cell_type": "code",
      "source": [
        "import numpy as np\n",
        "from sklearn.preprocessing import MinMaxScaler\n",
        "\n",
        "# Sample numpy data\n",
        "\n",
        "\n",
        "# Create a MinMaxScaler instance (you can specify the desired range if needed)\n",
        "scalerX = MinMaxScaler()\n",
        "scalerY = MinMaxScaler()\n",
        "\n",
        "# Fit the scaler to your data (computes the minimum and maximum values)\n",
        "scalerX.fit(X_train)\n",
        "scalerY.fit(y_train)\n",
        "# Transform (normalize) the data\n",
        "normalized_X_train = scalerX.transform(X_train)\n",
        "normalized_X_test = scalerX.transform(X_test)\n",
        "normalized_y_train = scalerY.transform(y_train)\n",
        "normalized_y_test = scalerY.transform(y_test)\n",
        "\n",
        "# The 'normalized_data' variable now contains the normalized data\n",
        "# print(normalized_data)\n",
        "# Both StandardScaler and MinMaxScaler have fit and transform methods. The fit method computes the necessary statistics on your data, and the transform method applies the scaling to the data. You can also use the fit_transform method to combine the two steps into one.\n",
        "\n",
        "\n",
        "\n",
        "\n"
      ],
      "metadata": {
        "id": "wA89qpWWuiWx"
      },
      "execution_count": null,
      "outputs": []
    },
    {
      "cell_type": "code",
      "source": [
        "#from sklearn.model_selection import train_test_split\n",
        "from sklearn.multioutput import MultiOutputRegressor\n",
        "from sklearn.linear_model import LinearRegression\n",
        "from sklearn.ensemble import RandomForestRegressor\n",
        "from sklearn.svm import SVR\n",
        "from sklearn.metrics import mean_squared_error\n",
        "from sklearn.metrics import r2_score\n",
        "\n",
        "# Define a list of models\n",
        "models = [\n",
        "    (\"Linear Regression\", MultiOutputRegressor(LinearRegression())),\n",
        "    (\"Random Forest\", MultiOutputRegressor(RandomForestRegressor())),\n",
        "    (\"Support Vector Machine\", MultiOutputRegressor(SVR()))\n",
        "]\n",
        "\n",
        "# Train and evaluate each model\n",
        "results = []\n",
        "\n",
        "for name, model in models:\n",
        "    model.fit(normalized_X_train, normalized_y_train)\n",
        "    y_pred = model.predict(normalized_X_test)\n",
        "    mse = mean_squared_error(normalized_y_test, y_pred)\n",
        "    r2 = r2_score(normalized_y_test, y_pred)\n",
        "    results.append((name, mse, r2))\n",
        "\n",
        "# Display results\n",
        "for name, mse, r2 in results:\n",
        "    print(f\"{name} Mean Squared Error: {mse}; R2: {r2}\")"
      ],
      "metadata": {
        "colab": {
          "base_uri": "https://localhost:8080/"
        },
        "id": "nsjPdrtnuB0D",
        "outputId": "c214c704-8a5b-404a-d570-0147dad7a4f9"
      },
      "execution_count": null,
      "outputs": [
        {
          "output_type": "stream",
          "name": "stdout",
          "text": [
            "Linear Regression Mean Squared Error: 0.2595628016777107; R2: -0.23846012905312183\n",
            "Random Forest Mean Squared Error: 0.22106381760841834; R2: -0.06375571470642287\n",
            "Support Vector Machine Mean Squared Error: 0.22092328042156154; R2: -0.06300149958068409\n"
          ]
        }
      ]
    },
    {
      "cell_type": "code",
      "source": [],
      "metadata": {
        "id": "NfqHPyMqvDrd"
      },
      "execution_count": null,
      "outputs": []
    },
    {
      "cell_type": "code",
      "source": [
        "# plt.plot(motorD[18200:21000])\n",
        "# plt.show()"
      ],
      "metadata": {
        "colab": {
          "base_uri": "https://localhost:8080/",
          "height": 435
        },
        "id": "meSKt8E4RDnb",
        "outputId": "7414cad1-0ac4-4db2-db58-d09d3a7d6592"
      },
      "execution_count": null,
      "outputs": [
        {
          "output_type": "display_data",
          "data": {
            "text/plain": [
              "<Figure size 640x480 with 1 Axes>"
            ],
            "image/png": "[encoded data removed]"
          },
          "metadata": {}
        }
      ]
    },
    {
      "cell_type": "code",
      "source": [
        "# check\n",
        "# plt.plot(tempX[6000:])\n",
        "# plt.show()"
      ],
      "metadata": {
        "colab": {
          "base_uri": "https://localhost:8080/",
          "height": 430
        },
        "id": "--e_Myf1NuDa",
        "outputId": "d30106ec-957f-4948-fdeb-7d01abe06f9d"
      },
      "execution_count": null,
      "outputs": [
        {
          "output_type": "display_data",
          "data": {
            "text/plain": [
              "<Figure size 640x480 with 1 Axes>"
            ],
            "image/png": "[encoded data removed]"
          },
          "metadata": {}
        }
      ]
    },
    {
      "cell_type": "code",
      "source": [
        "data.shape"
      ],
      "metadata": {
        "colab": {
          "base_uri": "https://localhost:8080/"
        },
        "id": "jDGGT_Lbcyom",
        "outputId": "a7b5fc18-06c3-4db3-9d6b-1f86e272c830"
      },
      "execution_count": null,
      "outputs": [
        {
          "output_type": "execute_result",
          "data": {
            "text/plain": [
              "(3175, 4)"
            ]
          },
          "metadata": {},
          "execution_count": 81
        }
      ]
    },
    {
      "cell_type": "code",
      "source": [
        "plt.plot(data)"
      ],
      "metadata": {
        "colab": {
          "base_uri": "https://localhost:8080/",
          "height": 498
        },
        "id": "t93uZmmlb7Bh",
        "outputId": "017eedca-9b45-4191-f92a-3d3324e122e9"
      },
      "execution_count": null,
      "outputs": [
        {
          "output_type": "execute_result",
          "data": {
            "text/plain": [
              "[<matplotlib.lines.Line2D at 0x786b545f3670>,\n",
              " <matplotlib.lines.Line2D at 0x786b545f0370>,\n",
              " <matplotlib.lines.Line2D at 0x786b545f1d80>,\n",
              " <matplotlib.lines.Line2D at 0x786b545f3e50>]"
            ]
          },
          "metadata": {},
          "execution_count": 83
        },
        {
          "output_type": "display_data",
          "data": {
            "text/plain": [
              "<Figure size 640x480 with 1 Axes>"
            ],
            "image/png": "[encoded data removed]"
          },
          "metadata": {}
        }
      ]
    },
    {
      "cell_type": "code",
      "source": [
        "# Import necessary libraries\n",
        "#from sklearn.model_selection import train_test_split\n",
        "from sklearn.multioutput import MultiOutputRegressor\n",
        "from sklearn.linear_model import LinearRegression\n",
        "from sklearn.ensemble import RandomForestRegressor\n",
        "from sklearn.svm import SVR\n",
        "from sklearn.metrics import mean_squared_error\n",
        "from sklearn.metrics import r2_score\n",
        "\n",
        "# Assuming 'X_train', 'y_train' are your training data and labels\n",
        "# 'X_test', 'y_test' are your test data and labels\n",
        "\n",
        "# Split the data into training and testing sets\n",
        "#X_train, X_test, y_train, y_test = train_test_split(X, y, test_size=0.2, random_state=42)\n",
        "\n",
        "# Define a list of models\n",
        "models = [\n",
        "    (\"Linear Regression\", MultiOutputRegressor(LinearRegression())),\n",
        "    (\"Random Forest\", MultiOutputRegressor(RandomForestRegressor())),\n",
        "    (\"Support Vector Machine\", MultiOutputRegressor(SVR()))\n",
        "]\n",
        "\n",
        "# Train and evaluate each model\n",
        "results = []\n",
        "\n",
        "for name, model in models:\n",
        "    model.fit(X_train, y_train)\n",
        "    y_pred = model.predict(X_test)\n",
        "    mse = mean_squared_error(y_test, y_pred)\n",
        "    r2 = r2_score(y_test, y_pred)\n",
        "    results.append((name, mse, r2))\n",
        "\n",
        "# Display results\n",
        "for name, mse, r2 in results:\n",
        "    print(f\"{name} Mean Squared Error: {mse}; R2: {r2}\")\n"
      ],
      "metadata": {
        "colab": {
          "base_uri": "https://localhost:8080/"
        },
        "id": "bW6LU70VWzVB",
        "outputId": "2f142a93-9a4e-4a80-a0fa-2958512d2045"
      },
      "execution_count": null,
      "outputs": [
        {
          "output_type": "stream",
          "name": "stdout",
          "text": [
            "Linear Regression Mean Squared Error: 0.00037555942822769644; R2: 0.6541383075045591\n",
            "Random Forest Mean Squared Error: 0.00023612019683688935; R2: 0.761764883602666\n",
            "Support Vector Machine Mean Squared Error: 0.001527515395639633; R2: -0.3514911363022017\n"
          ]
        }
      ]
    },
    {
      "cell_type": "code",
      "source": [
        "Y_70"
      ],
      "metadata": {
        "colab": {
          "base_uri": "https://localhost:8080/",
          "height": 423
        },
        "id": "KH-e-BuZaWYg",
        "outputId": "c7038eec-dbc5-498d-f692-dbd84c16977a"
      },
      "execution_count": null,
      "outputs": [
        {
          "output_type": "execute_result",
          "data": {
            "text/plain": [
              "      Take Name     run70 Capture Frame Rate\n",
              "0     -1.292575  1.545507           1.792016\n",
              "1     -1.292564  1.545506           1.792020\n",
              "2     -1.292565  1.545499           1.792018\n",
              "3     -1.292562  1.545493           1.792020\n",
              "4     -1.292562  1.545496           1.792018\n",
              "...         ...       ...                ...\n",
              "3464  -1.336875  1.538929           1.688002\n",
              "3465  -1.337435  1.538955           1.688049\n",
              "3466  -1.337921  1.538964           1.688224\n",
              "3467  -1.338199  1.538990           1.688577\n",
              "3468  -1.338450  1.538946           1.688792\n",
              "\n",
              "[3469 rows x 3 columns]"
            ],
            "text/html": [
              "\n",
              "  <div id=\"df-08a4ef1e-d596-4bd0-87ba-761f3ffea7e0\" class=\"colab-df-container\">\n",
              "    <div>\n",
              "<style scoped>\n",
              "    .dataframe tbody tr th:only-of-type {\n",
              "        vertical-align: middle;\n",
              "    }\n",
              "\n",
              "    .dataframe tbody tr th {\n",
              "        vertical-align: top;\n",
              "    }\n",
              "\n",
              "    .dataframe thead th {\n",
              "        text-align: right;\n",
              "    }\n",
              "</style>\n",
              "<table border=\"1\" class=\"dataframe\">\n",
              "  <thead>\n",
              "    <tr style=\"text-align: right;\">\n",
              "      <th></th>\n",
              "      <th>Take Name</th>\n",
              "      <th>run70</th>\n",
              "      <th>Capture Frame Rate</th>\n",
              "    </tr>\n",
              "  </thead>\n",
              "  <tbody>\n",
              "    <tr>\n",
              "      <th>0</th>\n",
              "      <td>-1.292575</td>\n",
              "      <td>1.545507</td>\n",
              "      <td>1.792016</td>\n",
              "    </tr>\n",
              "    <tr>\n",
              "      <th>1</th>\n",
              "      <td>-1.292564</td>\n",
              "      <td>1.545506</td>\n",
              "      <td>1.792020</td>\n",
              "    </tr>\n",
              "    <tr>\n",
              "      <th>2</th>\n",
              "      <td>-1.292565</td>\n",
              "      <td>1.545499</td>\n",
              "      <td>1.792018</td>\n",
              "    </tr>\n",
              "    <tr>\n",
              "      <th>3</th>\n",
              "      <td>-1.292562</td>\n",
              "      <td>1.545493</td>\n",
              "      <td>1.792020</td>\n",
              "    </tr>\n",
              "    <tr>\n",
              "      <th>4</th>\n",
              "      <td>-1.292562</td>\n",
              "      <td>1.545496</td>\n",
              "      <td>1.792018</td>\n",
              "    </tr>\n",
              "    <tr>\n",
              "      <th>...</th>\n",
              "      <td>...</td>\n",
              "      <td>...</td>\n",
              "      <td>...</td>\n",
              "    </tr>\n",
              "    <tr>\n",
              "      <th>3464</th>\n",
              "      <td>-1.336875</td>\n",
              "      <td>1.538929</td>\n",
              "      <td>1.688002</td>\n",
              "    </tr>\n",
              "    <tr>\n",
              "      <th>3465</th>\n",
              "      <td>-1.337435</td>\n",
              "      <td>1.538955</td>\n",
              "      <td>1.688049</td>\n",
              "    </tr>\n",
              "    <tr>\n",
              "      <th>3466</th>\n",
              "      <td>-1.337921</td>\n",
              "      <td>1.538964</td>\n",
              "      <td>1.688224</td>\n",
              "    </tr>\n",
              "    <tr>\n",
              "      <th>3467</th>\n",
              "      <td>-1.338199</td>\n",
              "      <td>1.538990</td>\n",
              "      <td>1.688577</td>\n",
              "    </tr>\n",
              "    <tr>\n",
              "      <th>3468</th>\n",
              "      <td>-1.338450</td>\n",
              "      <td>1.538946</td>\n",
              "      <td>1.688792</td>\n",
              "    </tr>\n",
              "  </tbody>\n",
              "</table>\n",
              "<p>3469 rows × 3 columns</p>\n",
              "</div>\n",
              "    <div class=\"colab-df-buttons\">\n",
              "\n",
              "  <div class=\"colab-df-container\">\n",
              "    <button class=\"colab-df-convert\" onclick=\"convertToInteractive('df-08a4ef1e-d596-4bd0-87ba-761f3ffea7e0')\"\n",
              "            title=\"Convert this dataframe to an interactive table.\"\n",
              "            style=\"display:none;\">\n",
              "\n",
              "  <svg xmlns=\"http://www.w3.org/2000/svg\" height=\"24px\" viewBox=\"0 -960 960 960\">\n",
              "    <path d=\"M120-120v-720h720v720H120Zm60-500h600v-160H180v160Zm220 220h160v-160H400v160Zm0 220h160v-160H400v160ZM180-400h160v-160H180v160Zm440 0h160v-160H620v160ZM180-180h160v-160H180v160Zm440 0h160v-160H620v160Z\"/>\n",
              "  </svg>\n",
              "    </button>\n",
              "\n",
              "  <style>\n",
              "    .colab-df-container {\n",
              "      display:flex;\n",
              "      gap: 12px;\n",
              "    }\n",
              "\n",
              "    .colab-df-convert {\n",
              "      background-color: #E8F0FE;\n",
              "      border: none;\n",
              "      border-radius: 50%;\n",
              "      cursor: pointer;\n",
              "      display: none;\n",
              "      fill: #1967D2;\n",
              "      height: 32px;\n",
              "      padding: 0 0 0 0;\n",
              "      width: 32px;\n",
              "    }\n",
              "\n",
              "    .colab-df-convert:hover {\n",
              "      background-color: #E2EBFA;\n",
              "      box-shadow: 0px 1px 2px rgba(60, 64, 67, 0.3), 0px 1px 3px 1px rgba(60, 64, 67, 0.15);\n",
              "      fill: #174EA6;\n",
              "    }\n",
              "\n",
              "    .colab-df-buttons div {\n",
              "      margin-bottom: 4px;\n",
              "    }\n",
              "\n",
              "    [theme=dark] .colab-df-convert {\n",
              "      background-color: #3B4455;\n",
              "      fill: #D2E3FC;\n",
              "    }\n",
              "\n",
              "    [theme=dark] .colab-df-convert:hover {\n",
              "      background-color: #434B5C;\n",
              "      box-shadow: 0px 1px 3px 1px rgba(0, 0, 0, 0.15);\n",
              "      filter: drop-shadow(0px 1px 2px rgba(0, 0, 0, 0.3));\n",
              "      fill: #FFFFFF;\n",
              "    }\n",
              "  </style>\n",
              "\n",
              "    <script>\n",
              "      const buttonEl =\n",
              "        document.querySelector('#df-08a4ef1e-d596-4bd0-87ba-761f3ffea7e0 button.colab-df-convert');\n",
              "      buttonEl.style.display =\n",
              "        google.colab.kernel.accessAllowed ? 'block' : 'none';\n",
              "\n",
              "      async function convertToInteractive(key) {\n",
              "        const element = document.querySelector('#df-08a4ef1e-d596-4bd0-87ba-761f3ffea7e0');\n",
              "        const dataTable =\n",
              "          await google.colab.kernel.invokeFunction('convertToInteractive',\n",
              "                                                    [key], {});\n",
              "        if (!dataTable) return;\n",
              "\n",
              "        const docLinkHtml = 'Like what you see? Visit the ' +\n",
              "          '<a target=\"_blank\" href=https://colab.research.google.com/notebooks/data_table.ipynb>data table notebook</a>'\n",
              "          + ' to learn more about interactive tables.';\n",
              "        element.innerHTML = '';\n",
              "        dataTable['output_type'] = 'display_data';\n",
              "        await google.colab.output.renderOutput(dataTable, element);\n",
              "        const docLink = document.createElement('div');\n",
              "        docLink.innerHTML = docLinkHtml;\n",
              "        element.appendChild(docLink);\n",
              "      }\n",
              "    </script>\n",
              "  </div>\n",
              "\n",
              "\n",
              "<div id=\"df-99f798db-ec14-421a-b4f6-899a35db35fc\">\n",
              "  <button class=\"colab-df-quickchart\" onclick=\"quickchart('df-99f798db-ec14-421a-b4f6-899a35db35fc')\"\n",
              "            title=\"Suggest charts.\"\n",
              "            style=\"display:none;\">\n",
              "\n",
              "<svg xmlns=\"http://www.w3.org/2000/svg\" height=\"24px\"viewBox=\"0 0 24 24\"\n",
              "     width=\"24px\">\n",
              "    <g>\n",
              "        <path d=\"M19 3H5c-1.1 0-2 .9-2 2v14c0 1.1.9 2 2 2h14c1.1 0 2-.9 2-2V5c0-1.1-.9-2-2-2zM9 17H7v-7h2v7zm4 0h-2V7h2v10zm4 0h-2v-4h2v4z\"/>\n",
              "    </g>\n",
              "</svg>\n",
              "  </button>\n",
              "\n",
              "<style>\n",
              "  .colab-df-quickchart {\n",
              "      --bg-color: #E8F0FE;\n",
              "      --fill-color: #1967D2;\n",
              "      --hover-bg-color: #E2EBFA;\n",
              "      --hover-fill-color: #174EA6;\n",
              "      --disabled-fill-color: #AAA;\n",
              "      --disabled-bg-color: #DDD;\n",
              "  }\n",
              "\n",
              "  [theme=dark] .colab-df-quickchart {\n",
              "      --bg-color: #3B4455;\n",
              "      --fill-color: #D2E3FC;\n",
              "      --hover-bg-color: #434B5C;\n",
              "      --hover-fill-color: #FFFFFF;\n",
              "      --disabled-bg-color: #3B4455;\n",
              "      --disabled-fill-color: #666;\n",
              "  }\n",
              "\n",
              "  .colab-df-quickchart {\n",
              "    background-color: var(--bg-color);\n",
              "    border: none;\n",
              "    border-radius: 50%;\n",
              "    cursor: pointer;\n",
              "    display: none;\n",
              "    fill: var(--fill-color);\n",
              "    height: 32px;\n",
              "    padding: 0;\n",
              "    width: 32px;\n",
              "  }\n",
              "\n",
              "  .colab-df-quickchart:hover {\n",
              "    background-color: var(--hover-bg-color);\n",
              "    box-shadow: 0 1px 2px rgba(60, 64, 67, 0.3), 0 1px 3px 1px rgba(60, 64, 67, 0.15);\n",
              "    fill: var(--button-hover-fill-color);\n",
              "  }\n",
              "\n",
              "  .colab-df-quickchart-complete:disabled,\n",
              "  .colab-df-quickchart-complete:disabled:hover {\n",
              "    background-color: var(--disabled-bg-color);\n",
              "    fill: var(--disabled-fill-color);\n",
              "    box-shadow: none;\n",
              "  }\n",
              "\n",
              "  .colab-df-spinner {\n",
              "    border: 2px solid var(--fill-color);\n",
              "    border-color: transparent;\n",
              "    border-bottom-color: var(--fill-color);\n",
              "    animation:\n",
              "      spin 1s steps(1) infinite;\n",
              "  }\n",
              "\n",
              "  @keyframes spin {\n",
              "    0% {\n",
              "      border-color: transparent;\n",
              "      border-bottom-color: var(--fill-color);\n",
              "      border-left-color: var(--fill-color);\n",
              "    }\n",
              "    20% {\n",
              "      border-color: transparent;\n",
              "      border-left-color: var(--fill-color);\n",
              "      border-top-color: var(--fill-color);\n",
              "    }\n",
              "    30% {\n",
              "      border-color: transparent;\n",
              "      border-left-color: var(--fill-color);\n",
              "      border-top-color: var(--fill-color);\n",
              "      border-right-color: var(--fill-color);\n",
              "    }\n",
              "    40% {\n",
              "      border-color: transparent;\n",
              "      border-right-color: var(--fill-color);\n",
              "      border-top-color: var(--fill-color);\n",
              "    }\n",
              "    60% {\n",
              "      border-color: transparent;\n",
              "      border-right-color: var(--fill-color);\n",
              "    }\n",
              "    80% {\n",
              "      border-color: transparent;\n",
              "      border-right-color: var(--fill-color);\n",
              "      border-bottom-color: var(--fill-color);\n",
              "    }\n",
              "    90% {\n",
              "      border-color: transparent;\n",
              "      border-bottom-color: var(--fill-color);\n",
              "    }\n",
              "  }\n",
              "</style>\n",
              "\n",
              "  <script>\n",
              "    async function quickchart(key) {\n",
              "      const quickchartButtonEl =\n",
              "        document.querySelector('#' + key + ' button');\n",
              "      quickchartButtonEl.disabled = true;  // To prevent multiple clicks.\n",
              "      quickchartButtonEl.classList.add('colab-df-spinner');\n",
              "      try {\n",
              "        const charts = await google.colab.kernel.invokeFunction(\n",
              "            'suggestCharts', [key], {});\n",
              "      } catch (error) {\n",
              "        console.error('Error during call to suggestCharts:', error);\n",
              "      }\n",
              "      quickchartButtonEl.classList.remove('colab-df-spinner');\n",
              "      quickchartButtonEl.classList.add('colab-df-quickchart-complete');\n",
              "    }\n",
              "    (() => {\n",
              "      let quickchartButtonEl =\n",
              "        document.querySelector('#df-99f798db-ec14-421a-b4f6-899a35db35fc button');\n",
              "      quickchartButtonEl.style.display =\n",
              "        google.colab.kernel.accessAllowed ? 'block' : 'none';\n",
              "    })();\n",
              "  </script>\n",
              "</div>\n",
              "    </div>\n",
              "  </div>\n"
            ]
          },
          "metadata": {},
          "execution_count": 3
        }
      ]
    }
  ]
}